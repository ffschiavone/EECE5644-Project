{
 "cells": [
  {
   "cell_type": "code",
   "execution_count": 10,
   "metadata": {},
   "outputs": [],
   "source": [
    "import json\n",
    "import itertools\n",
    "import re\n",
    "import pandas as pd\n",
    "import numpy as np\n",
    "from collections import defaultdict"
   ]
  },
  {
   "cell_type": "code",
   "execution_count": 11,
   "metadata": {},
   "outputs": [],
   "source": [
    "df = pd.read_csv('survey_results_public.csv', index_col='Respondent')\n",
    "df = df[df['Salary'].notnull()]"
   ]
  },
  {
   "cell_type": "code",
   "execution_count": 12,
   "metadata": {},
   "outputs": [],
   "source": [
    "def is_multi_select(series):\n",
    "    for entry in series.unique():\n",
    "        if type(entry) == str and ';' in entry:\n",
    "            return True\n",
    "    return False"
   ]
  },
  {
   "cell_type": "code",
   "execution_count": 13,
   "metadata": {},
   "outputs": [],
   "source": [
    "multi_select_cols = []\n",
    "numeric_cols = []\n",
    "other_cols = []\n",
    "\n",
    "for col in df.columns:\n",
    "    series = df[col]\n",
    "    \n",
    "    if series.dtype == np.float64:\n",
    "        numeric_cols.append(col)\n",
    "        continue\n",
    "    \n",
    "    if is_multi_select(series):\n",
    "        multi_select_cols.append(col)\n",
    "        continue\n",
    "    \n",
    "    other_cols.append(col)"
   ]
  },
  {
   "cell_type": "code",
   "execution_count": 14,
   "metadata": {},
   "outputs": [],
   "source": [
    "def generate_column_mapping():\n",
    "    cleaned_columns_by_original_column = defaultdict(list)\n",
    "\n",
    "    for col in multi_select_cols:\n",
    "        row_entries = df[col].dropna().str.split('; ').tolist()\n",
    "        options = set(itertools.chain(*row_entries))\n",
    "        for option in options:\n",
    "            cleaned_columns_by_original_column[col].append(option)\n",
    "\n",
    "    for col in other_cols:\n",
    "        if col.startswith('Years'):\n",
    "            cleaned_columns_by_original_column[col].append(col)\n",
    "        else:\n",
    "            options = df[col].dropna().unique()\n",
    "            for option in options:\n",
    "                cleaned_column = col + '_' + option\n",
    "                cleaned_columns_by_original_column[col].append(cleaned_column)\n",
    "\n",
    "    for col in numeric_cols:\n",
    "        cleaned_columns_by_original_column[col].append(col)\n",
    "    \n",
    "    with open('column_mapping.json', 'w') as f:\n",
    "        json.dump(dict(cleaned_columns_by_original_column), f)"
   ]
  },
  {
   "cell_type": "code",
   "execution_count": 15,
   "metadata": {},
   "outputs": [],
   "source": [
    "generate_column_mapping()"
   ]
  },
  {
   "cell_type": "code",
   "execution_count": 16,
   "metadata": {},
   "outputs": [],
   "source": [
    "def clean(df, multi_select_cols=[], numeric_cols=[], other_cols=[]):\n",
    "    result = df[numeric_cols + other_cols].copy()\n",
    "    \n",
    "    for col in result.columns:\n",
    "        if col.startswith('Years'):\n",
    "            years_as_string = result[col] \\\n",
    "                .fillna('') \\\n",
    "                .replace('Less than a year', '0 to 1 years') \\\n",
    "                .str.extract('(\\d+) ', expand=False)\n",
    "            result[col] = pd.to_numeric(years_as_string) + 0.5\n",
    "    \n",
    "    result = pd.get_dummies(result)\n",
    "    sub_dfs = []\n",
    "    for multi_select_col in multi_select_cols:\n",
    "        sub_df = df[multi_select_col].str.get_dummies(sep='; ')\n",
    "        sub_dfs.append(sub_df)\n",
    "    \n",
    "    return pd.concat(sub_dfs + [result], axis=1)"
   ]
  },
  {
   "cell_type": "code",
   "execution_count": 17,
   "metadata": {},
   "outputs": [],
   "source": [
    "cleaned_df = clean(df,\n",
    "                   multi_select_cols=multi_select_cols,\n",
    "                   numeric_cols=numeric_cols,\n",
    "                   other_cols=other_cols)\n",
    "cleaned_df.to_csv('cleaned_data.csv')"
   ]
  }
 ],
 "metadata": {
  "kernelspec": {
   "display_name": "Python 3",
   "language": "python",
   "name": "python3"
  },
  "language_info": {
   "codemirror_mode": {
    "name": "ipython",
    "version": 3
   },
   "file_extension": ".py",
   "mimetype": "text/x-python",
   "name": "python",
   "nbconvert_exporter": "python",
   "pygments_lexer": "ipython3",
   "version": "3.6.4"
  }
 },
 "nbformat": 4,
 "nbformat_minor": 2
}
