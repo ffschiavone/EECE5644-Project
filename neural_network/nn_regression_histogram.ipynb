{
 "cells": [
  {
   "cell_type": "markdown",
   "metadata": {},
   "source": [
    "Frank Schiavone\n",
    "EECE5644 Final Project\n",
    "Neural Networks"
   ]
  },
  {
   "cell_type": "code",
   "execution_count": 3,
   "metadata": {},
   "outputs": [
    {
     "name": "stderr",
     "output_type": "stream",
     "text": [
      "c:\\users\\fr23505\\appdata\\local\\programs\\python\\python36\\lib\\site-packages\\h5py\\__init__.py:36: FutureWarning: Conversion of the second argument of issubdtype from `float` to `np.floating` is deprecated. In future, it will be treated as `np.float64 == np.dtype(float).type`.\n",
      "  from ._conv import register_converters as _register_converters\n",
      "Using TensorFlow backend.\n"
     ]
    }
   ],
   "source": [
    "from matplotlib.pyplot import figure, show\n",
    "import matplotlib.pyplot as plt\n",
    "import pandas as pd\n",
    "import os\n",
    "import numpy as np\n",
    "import json\n",
    "from sklearn import metrics\n",
    "import tensorflow as tf\n",
    "from keras.models import Sequential\n",
    "from keras.layers.core import Dense, Activation\n",
    "from keras.callbacks import EarlyStopping\n",
    "from keras.callbacks import ModelCheckpoint"
   ]
  },
  {
   "cell_type": "code",
   "execution_count": 4,
   "metadata": {},
   "outputs": [],
   "source": [
    "# Load Shuffled Dataset\n",
    "filename_read = r\"c:\\Users\\fr23505\\Documents\\machine\\new_repo\\EECE5644-Project-master\\shuffled.csv\"\n",
    "df = pd.read_csv(filename_read,na_values=['NA','?'], index_col='Respondent')\n",
    "df = df.fillna(0)"
   ]
  },
  {
   "cell_type": "code",
   "execution_count": 89,
   "metadata": {},
   "outputs": [],
   "source": [
    "def hist_plot(pred, y_test): \n",
    "    errors = []\n",
    "    for index in range(len(pred)):\n",
    "        try:\n",
    "            errors.append(pred[index][0] - y_test[y_test.index[index]])\n",
    "        except KeyError:\n",
    "            pass\n",
    "             # If we get a key error then we can't compare the prediction and error so we should just continue\n",
    "    #plt.hist(errors, bins=30, histtype='step')\n",
    "    #plt.title('Neural Network Results')\n",
    "    #plt.ylabel('Count')\n",
    "    #plt.ylabel('Salary Prediction Error')\n",
    "    #plt.fill(pts[:, 0], pts[:, 1], 'r', lw=2)\n",
    "    \n",
    "    plt.show()\n",
    "    \n",
    "    plt.figure(figsize=(4, 3))\n",
    "    plt.title('Neural Net Results')\n",
    "    plt.xlabel('Salary Prediction Error')\n",
    "    plt.ylabel('Count')\n",
    "    plt.hist(errors, bins=20)\n",
    "    plt.show()"
   ]
  },
  {
   "cell_type": "code",
   "execution_count": 91,
   "metadata": {},
   "outputs": [],
   "source": [
    "fold=1;\n",
    "i=2;\n",
    "# 1/10 of Dataset\n",
    "test = df.iloc[1 : int(len(df) * 0.1)]\n",
    "\n",
    "# Seperate Data into train and test\n",
    "train = df.drop(test.index)\n",
    "\n",
    "# Seperate targets\n",
    "x_train = train.drop(columns='Salary')\n",
    "y_train = train['Salary']\n",
    "x_test = test.drop(columns='Salary')\n",
    "y_test = test['Salary']"
   ]
  },
  {
   "cell_type": "code",
   "execution_count": 92,
   "metadata": {},
   "outputs": [],
   "source": [
    "## Construct NN\n",
    "activ_func = 'relu'\n",
    "learn_algo = 'RMSprop'\n",
    "num_neurons_1 = x_train.shape[1];\n",
    "num_neurons_2 = round(x_train.shape[1]/2);\n",
    "model = Sequential()\n",
    "model.add(Dense(num_neurons_1, input_dim=x_train.shape[1], activation=activ_func))\n",
    "model.add(Dense(num_neurons_2, activation=activ_func))\n",
    "model.add(Dense(1))\n",
    "model.compile(loss='mean_squared_error', optimizer=learn_algo)\n",
    "\n",
    "# Learning Algorithm monitor: Stop training when\n",
    "# validation loss is less the 1e-3 5 times in a row\n",
    "monitor = EarlyStopping(monitor='val_loss', min_delta=1e-3, patience=5, verbose=0, mode='auto')\n",
    "\n",
    "# Save weights for NN\n",
    "checkpointer = ModelCheckpoint(filepath=\"best_weights_strict2.hdf5\", verbose=0, save_best_only=True)\n"
   ]
  },
  {
   "cell_type": "code",
   "execution_count": 93,
   "metadata": {
    "scrolled": true
   },
   "outputs": [
    {
     "name": "stdout",
     "output_type": "stream",
     "text": [
      "Train on 11603 samples, validate on 1288 samples\n",
      "Epoch 1/3000\n",
      "11603/11603 [==============================] - 12s 1ms/step - loss: 1583018673.5706 - val_loss: 857409312.9938\n",
      "Epoch 2/3000\n",
      "11603/11603 [==============================] - 10s 896us/step - loss: 698730722.7965 - val_loss: 569369240.6460\n",
      "Epoch 3/3000\n",
      "11603/11603 [==============================] - 10s 904us/step - loss: 503116242.3690 - val_loss: 477633460.0745\n",
      "Epoch 4/3000\n",
      "11603/11603 [==============================] - 10s 862us/step - loss: 426845696.0579 - val_loss: 458113611.5280\n",
      "Epoch 5/3000\n",
      "11603/11603 [==============================] - 11s 943us/step - loss: 385985868.9042 - val_loss: 414821232.4969\n",
      "Epoch 6/3000\n",
      "11603/11603 [==============================] - 11s 951us/step - loss: 360751542.6507 - val_loss: 386197052.4224\n",
      "Epoch 7/3000\n",
      "11603/11603 [==============================] - 11s 941us/step - loss: 342041458.4476 - val_loss: 374946583.8509\n",
      "Epoch 8/3000\n",
      "11603/11603 [==============================] - 10s 888us/step - loss: 329059880.4944 - val_loss: 370921323.7267\n",
      "Epoch 9/3000\n",
      "11603/11603 [==============================] - 10s 881us/step - loss: 318031973.5103 - val_loss: 377390304.3975\n",
      "Epoch 10/3000\n",
      "11603/11603 [==============================] - 10s 902us/step - loss: 309065180.5374 - val_loss: 356292159.8012\n",
      "Epoch 11/3000\n",
      "11603/11603 [==============================] - 11s 951us/step - loss: 302195210.0333 - val_loss: 359804069.3665\n",
      "Epoch 12/3000\n",
      "11603/11603 [==============================] - 12s 1ms/step - loss: 294766476.7526 - val_loss: 371725628.8199\n",
      "Epoch 13/3000\n",
      "11603/11603 [==============================] - 12s 1ms/step - loss: 290385100.9566 - val_loss: 356502033.4907\n",
      "Epoch 14/3000\n",
      "11603/11603 [==============================] - 12s 1ms/step - loss: 284414019.6804 - val_loss: 351365427.8758\n",
      "Epoch 15/3000\n",
      "11603/11603 [==============================] - 12s 1ms/step - loss: 281217178.7393 - val_loss: 367230789.9627\n",
      "Epoch 16/3000\n",
      "11603/11603 [==============================] - 12s 1ms/step - loss: 274825500.1810 - val_loss: 360372337.2919\n",
      "Epoch 17/3000\n",
      "11603/11603 [==============================] - 12s 1ms/step - loss: 270722988.1817 - val_loss: 355212307.0807\n",
      "Epoch 18/3000\n",
      "11603/11603 [==============================] - 12s 1ms/step - loss: 267130396.4788 - val_loss: 363943106.1863\n",
      "Epoch 19/3000\n",
      "11603/11603 [==============================] - 11s 939us/step - loss: 262371420.9704 - val_loss: 375773225.9379\n"
     ]
    },
    {
     "data": {
      "text/plain": [
       "<keras.callbacks.History at 0x214527a8a90>"
      ]
     },
     "execution_count": 93,
     "metadata": {},
     "output_type": "execute_result"
    }
   ],
   "source": [
    "\n",
    "# Train NN\n",
    "# The model will not be trained on this data.\n",
    "# epochs=1000, Epoch: # complete iterations of the data set to be learned\n",
    "rms = 0;\n",
    "model.fit(x_train,y_train,validation_data=(x_test,y_test),callbacks=[monitor,checkpointer],verbose=1,epochs=3000)\n"
   ]
  },
  {
   "cell_type": "code",
   "execution_count": null,
   "metadata": {},
   "outputs": [],
   "source": []
  },
  {
   "cell_type": "code",
   "execution_count": 94,
   "metadata": {
    "scrolled": true
   },
   "outputs": [
    {
     "data": {
      "image/png": "[encoded data removed]",
      "text/plain": [
       "<Figure size 288x216 with 1 Axes>"
      ]
     },
     "metadata": {},
     "output_type": "display_data"
    },
    {
     "name": "stdout",
     "output_type": "stream",
     "text": [
      "Layer 1 RMS: 18744.743989976276\n"
     ]
    }
   ],
   "source": [
    "# Prediction\n",
    "# load weights from Training NN\n",
    "model.load_weights('best_weights_strict2.hdf5') \n",
    "\n",
    "# Run Prediction\n",
    "pred = model.predict(x_test)\n",
    "\n",
    " # Calculate RMS\n",
    "rms = np.sqrt(metrics.mean_squared_error(pred,y_test))\n",
    "\n",
    "# Histogram Plot\n",
    "hist_plot(pred, y_test)\n",
    "print(\"Layer 1 RMS: {}\".format(rms))\n",
    "#print(\"\\nPredicted value: {}\".format(pred))\n",
    "#print(\"\\nActual value: {}\".format(y_test))\n",
    "\n",
    "        \n",
    "        "
   ]
  },
  {
   "cell_type": "code",
   "execution_count": null,
   "metadata": {},
   "outputs": [],
   "source": []
  }
 ],
 "metadata": {
  "kernelspec": {
   "display_name": "Python 3",
   "language": "python",
   "name": "python3"
  },
  "language_info": {
   "codemirror_mode": {
    "name": "ipython",
    "version": 3
   },
   "file_extension": ".py",
   "mimetype": "text/x-python",
   "name": "python",
   "nbconvert_exporter": "python",
   "pygments_lexer": "ipython3",
   "version": "3.6.2"
  }
 },
 "nbformat": 4,
 "nbformat_minor": 2
}
